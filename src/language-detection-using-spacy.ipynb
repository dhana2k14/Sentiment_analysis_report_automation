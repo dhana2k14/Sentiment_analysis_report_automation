{
 "cells": [
  {
   "cell_type": "markdown",
   "metadata": {},
   "source": [
    "#### This notebook explains how to use Spacy language detection pipeline to detect the language of a given news content"
   ]
  },
  {
   "cell_type": "markdown",
   "metadata": {
    "id": "i5utXTiPteAO"
   },
   "source": [
    "**Download and Install Libraries**\n",
    "- !pip install spacy_cld\n",
    "- !pip install spacy-langdetect"
   ]
  },
  {
   "cell_type": "code",
   "execution_count": 4,
   "metadata": {
    "id": "CMOH4W39wgyN"
   },
   "outputs": [],
   "source": [
    "# Imports \n",
    "import spacy\n",
    "from spacy_cld import LanguageDetector\n",
    "import pandas as pd\n",
    "import re\n",
    "from tqdm import tqdm"
   ]
  },
  {
   "cell_type": "code",
   "execution_count": null,
   "metadata": {
    "id": "y-E5e-WCwxxO"
   },
   "outputs": [],
   "source": [
    "language_detector = LanguageDetector()"
   ]
  },
  {
   "cell_type": "code",
   "execution_count": null,
   "metadata": {
    "id": "9psEzfH5wl_f"
   },
   "outputs": [],
   "source": [
    "nlp = spacy.load('en')\n",
    "nlp.add_pipe(language_detector)"
   ]
  },
  {
   "cell_type": "code",
   "execution_count": null,
   "metadata": {
    "colab": {
     "base_uri": "https://localhost:8080/",
     "height": 34
    },
    "id": "1ctSBt6Qv3eI",
    "outputId": "90c79107-3f40-44f2-cb5f-b98e642db2a6"
   },
   "outputs": [
    {
     "data": {
      "text/plain": [
       "['zh-Hant', 'en']"
      ]
     },
     "execution_count": 6,
     "metadata": {
      "tags": []
     },
     "output_type": "execute_result"
    }
   ],
   "source": [
    "# testing \n",
    "docx = nlp(\"\"\"以色列 AI 晶片新創公司 Hailo 宣布完成 6 千萬美元 B 輪融資，投資人包括全球工業自動化和機器人領域領導者 ABB 的戰略風險投資部 ABB Technology Ventures（ATV）、IT 和網路技術領域的領軍企業 NEC、倫敦知名風險投資機構 Latitude Ventures，以及現有投資人。 Hailo 首席執行長兼聯合創始人 Orr Danon 表示，「此輪融資將幫助我們加快全球智慧手機、智慧城市、工業自動化、智慧零售等領域的智慧裝置和 AI 產業邊緣側部署。」 Hailo 是以色列 AI 晶片新創公司，由以色列國防軍精英技術小組成員於 2017 年創立，開發的 AI 晶片可為邊緣裝置提供資料中心級的計算效能。Hailo 獲得此輪融資後將利用這筆資金支援革命性 Hailo-8 深度學習晶片的全球推廣。 不久前，Hailo 推出邊緣裝置深度學習處理器 Hailo-8，效能最高可達每秒 26TOPS，並有超小面積和超低功耗。 Hailo 稱，藉助基於神經網路核心屬性設計的全新晶片架構，Hailo 晶片能讓裝置執行原本只能在雲端執行的複雜深度學習模型。Hailo-8 創新的資料流架構可達成更高效能、更低功耗和最小延遲，為邊緣智慧裝置（包括自駕車、智慧鏡頭、智慧手機、無人機和 AR / VR 裝置）提供更高效能和隱私性。 此輪融資後，Hailo 總融資金額將達 8,800 萬美元。2018 年 6 月，Hailo 完成 A 輪 1,200 萬美元融資，投資方包括以色列眾籌平台 OurCrowd、風險投資基金 Maniv Mobility 及多位天使投資人。 2019 年 Hailo 新一輪融資將目標市場延伸到中國和香港，中國風險投資公司耀途資本成了此次融資擴張的領投方，而 Hailo 融資規模也擴大到 2,100 萬美元。 （本文由 雷鋒網 授權轉載；首圖來源：Hailo）\"\"\")\n",
    "docx._.languages"
   ]
  },
  {
   "cell_type": "code",
   "execution_count": null,
   "metadata": {
    "id": "nz1btWMFz84z"
   },
   "outputs": [],
   "source": [
    "# helper function \n",
    "def text_clean(text):\n",
    "    reg_ex = re.compile(f'([“”¨«»®´·º½¾¿¡§£₤‘’×“”’])')\n",
    "    return reg_ex.sub('', text)\n",
    "  \n",
    "def detect_language(text):\n",
    "    docx = nlp(text)\n",
    "    return docx._.languages"
   ]
  },
  {
   "cell_type": "code",
   "execution_count": null,
   "metadata": {
    "colab": {
     "base_uri": "https://localhost:8080/",
     "height": 34
    },
    "id": "DiuUUR3xwK_4",
    "outputId": "fe8e20c6-dbc8-41a2-ea35-2dd40bf2000a"
   },
   "outputs": [],
   "source": [
    "# detect language and filter out english news content\n",
    "with open('../input/all_news_content.csv', 'r', encoding = 'utf-8') as txt_file:\n",
    "    lines = txt_file.readlines()\n",
    "    for line_id, line in enumerate(tqdm(lines)):\n",
    "    newline = text_clean(line)\n",
    "    docId = line_id\n",
    "    try:\n",
    "        text_lang = str(detect_language(newline))\n",
    "    except:\n",
    "        next\n",
    "    if text_lang == \"['en']\":\n",
    "        output = docId + '\\t' + newline\n",
    "        with open('../ds-input/all_news_content_lang_en.txt', 'a') as outfile:\n",
    "            outfile.write(output)"
   ]
  }
 ],
 "metadata": {
  "colab": {
   "collapsed_sections": [],
   "name": "Detect_Language_using_Spacy.ipynb",
   "provenance": []
  },
  "kernelspec": {
   "display_name": "Python 3",
   "language": "python",
   "name": "python3"
  },
  "language_info": {
   "codemirror_mode": {
    "name": "ipython",
    "version": 3
   },
   "file_extension": ".py",
   "mimetype": "text/x-python",
   "name": "python",
   "nbconvert_exporter": "python",
   "pygments_lexer": "ipython3",
   "version": "3.6.7"
  }
 },
 "nbformat": 4,
 "nbformat_minor": 4
}
