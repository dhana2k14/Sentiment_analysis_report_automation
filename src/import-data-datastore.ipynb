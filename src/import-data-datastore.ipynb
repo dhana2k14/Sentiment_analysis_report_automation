{
 "cells": [
  {
   "cell_type": "markdown",
   "metadata": {},
   "source": [
    "## In this notebook we will see how to import train/test data into Azure Blob Storage  for model training and inferences"
   ]
  },
  {
   "cell_type": "markdown",
   "metadata": {},
   "source": [
    "- **Azureml** is Azure Machine Learning SDK for Python to interact with Azure ML Platform for various purposes.\n",
    "- Azureml can be installed via **pip install azureml-sdk**"
   ]
  },
  {
   "cell_type": "code",
   "execution_count": 1,
   "metadata": {},
   "outputs": [],
   "source": [
    "# Load Libraries\n",
    "import azureml.core \n",
    "from azureml.core import Workspace, Datastore, Dataset\n",
    "import wget\n",
    "import pandas as pd\n",
    "import re, string\n",
    "from tqdm import tqdm"
   ]
  },
  {
   "cell_type": "code",
   "execution_count": null,
   "metadata": {},
   "outputs": [],
   "source": [
    "# Initiate Workspace \n",
    "try:\n",
    "    ws = Workspace.from_config('../config/config.json')\n",
    "    print(ws.name, ws.location, ws.resource_group, sep = '\\t')\n",
    "    print('Initializing Workspace succeeded')\n",
    "except:\n",
    "    print('Workspace not found')"
   ]
  },
  {
   "cell_type": "markdown",
   "metadata": {},
   "source": [
    "**Download Glove Emebeddings**\n",
    "- Glove embeddings is used to convert text into vectors for model training\n",
    "- Download [Glove Embeddings](http://nlp.stanford.edu/data/glove.840B.300d.zip) and save it under **ds-input** folder"
   ]
  },
  {
   "cell_type": "markdown",
   "metadata": {},
   "source": [
    "**Upload local files into Azure Default Datastore**"
   ]
  },
  {
   "cell_type": "code",
   "execution_count": null,
   "metadata": {},
   "outputs": [],
   "source": [
    "# create a default azure datastore\n",
    "# upload local data into azure default datastore\n",
    "ds = ws.get_default_datastore()\n",
    "ds.upload('../ds-input/', target_path='news_data', overwrite=True, show_progress=True)"
   ]
  },
  {
   "cell_type": "code",
   "execution_count": null,
   "metadata": {},
   "outputs": [],
   "source": []
  }
 ],
 "metadata": {
  "kernelspec": {
   "display_name": "Python 3.8.1 64-bit ('aml-deployment': conda)",
   "language": "python",
   "name": "python38164bitamldeploymentcondaf5b7e0dfb0a842d0b76136f1256eeed9"
  },
  "language_info": {
   "codemirror_mode": {
    "name": "ipython",
    "version": 3
   },
   "file_extension": ".py",
   "mimetype": "text/x-python",
   "name": "python",
   "nbconvert_exporter": "python",
   "pygments_lexer": "ipython3",
   "version": "3.8.1"
  }
 },
 "nbformat": 4,
 "nbformat_minor": 4
}
