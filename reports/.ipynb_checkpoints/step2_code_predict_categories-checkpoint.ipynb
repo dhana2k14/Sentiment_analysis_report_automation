{
 "cells": [
  {
   "cell_type": "markdown",
   "metadata": {},
   "source": [
    "### Reports Automation\n",
    "- The objective is auto populate name of company, text sentences in their respective categories based on text classification model and overall sentiment scores (Positive/Negative/Neutral) of the company based on ABSA Sentiment Analysis Model\n",
    "- We use **Gramex** library to acheive the above objective"
   ]
  },
  {
   "cell_type": "markdown",
   "metadata": {},
   "source": [
    "**Preprare Data**\n",
    "- Input File: JSON file resulted from ABSA model's inference step\n",
    "- Ouput File: Pandas Data Frame "
   ]
  },
  {
   "cell_type": "code",
   "execution_count": null,
   "metadata": {},
   "outputs": [],
   "source": [
    "# Install libraries\n",
    "import pandas as pd\n",
    "from tqdm import tqdm\n",
    "import json, re\n",
    "from nltk import flatten\n",
    "import numpy as np\n",
    "import tensorflow as tf\n",
    "import tensorflow_hub as hub\n",
    "from sklearn.svm import LinearSVC\n",
    "import joblib"
   ]
  },
  {
   "cell_type": "code",
   "execution_count": null,
   "metadata": {},
   "outputs": [],
   "source": [
    "# convert json file contents into data frame\n",
    "with open('../output/step2_competitor_news_data_sentiment_scores.json', 'r') as jsonFile:\n",
    "    lines = jsonFile.readlines()\n",
    "    sentiment_labels = pd.DataFrame()\n",
    "    for l_id, line in enumerate(tqdm(lines)):\n",
    "        line = json.loads(line)\n",
    "        document_df = pd.DataFrame()\n",
    "        document_df.loc[0, 'news_text'] = line['_news_text']\n",
    "        document_df.loc[0, 'd_pol'] = line['_doc_polarity']\n",
    "        document_df.loc[0, 'doc_id'] = line['sent_id']\n",
    "        document_df.loc[0, 'company_name'] = line[\"_vendor_name\"]\n",
    "        document_df.loc[0, 'positive'] = str(list(filter(None, [v if k == 'Positive' else 0 for k, v in line['scores'].items()])))\n",
    "        document_df.loc[0, 'negative'] = str(list(filter(None, [v if k == 'Negative' else 0 for k, v in line['scores'].items()])))\n",
    "        document_df.loc[0, 'neutral'] = str(list(filter(None, [v if k == 'Neutral' else 0 for k, v in line['scores'].items()])))\n",
    "        sentence_df = pd.DataFrame()\n",
    "        for s_id, sent in enumerate(line['_sentences']):\n",
    "            sentence_df.loc[s_id, 'sents'] = [v for k, v in sent.items() if v][0]\n",
    "            sentence_df.loc[s_id, 's_pol'] = [v if v else '' for k, v in sent.items()][3]\n",
    "            words_dict = [v if v else '' for k, v in sent.items()][1]\n",
    "            if type(words_dict) == dict:\n",
    "                sentence_df.loc[s_id, 'terms_neg'] = str(list(filter(None, flatten([v if k == 'NEG' else '' for k, v in words_dict.items()]))))\n",
    "                sentence_df.loc[s_id, 'terms_pos'] = str(list(filter(None, flatten([v if k == 'POS' else '' for k, v in words_dict.items()]))))\n",
    "            else:\n",
    "                next\n",
    "        document_df = pd.concat([document_df, sentence_df], axis = 1)\n",
    "        sentiment_labels = pd.concat([sentiment_labels, document_df], axis = 0)"
   ]
  },
  {
   "cell_type": "code",
   "execution_count": null,
   "metadata": {},
   "outputs": [],
   "source": [
    "# remove pos / neg tags attached in the sentences column\n",
    "sentiment_labels['sents'] = sentiment_labels['sents'].apply(lambda x: re.sub(r'<NEG>|<POS>', '', str(x)))"
   ]
  },
  {
   "cell_type": "markdown",
   "metadata": {},
   "source": [
    "**Predict Categories**\n",
    "\n",
    "- We use **Universal Sentence Encoder** pre-trained language model from **Tensorflow Hub** to obtain text representations for our text corpus\n",
    "- We use classifier model that we developed to get prediction "
   ]
  },
  {
   "cell_type": "code",
   "execution_count": null,
   "metadata": {},
   "outputs": [],
   "source": [
    "# Download Universal Sentence Embeddings model\n",
    "embed = hub.load(\"https://tfhub.dev/google/universal-sentence-encoder-large/5\")"
   ]
  },
  {
   "cell_type": "code",
   "execution_count": null,
   "metadata": {},
   "outputs": [],
   "source": [
    "# helper function to generate emebddings  \n",
    "def embed_text(text):\n",
    "    '''\n",
    "    args:list of sentences\n",
    "    \n",
    "    '''\n",
    "    embeddings = embed(text)\n",
    "    return[vector.numpy().tolist() for vector in embeddings]"
   ]
  },
  {
   "cell_type": "code",
   "execution_count": null,
   "metadata": {},
   "outputs": [],
   "source": [
    "# helper function to load vectors into a dataframe\n",
    "def vectors_to_df(embed_vectors):\n",
    "    embeddings_df = pd.DataFrame()\n",
    "    for i in range(len(embed_vectors)):\n",
    "    df = pd.DataFrame([embed_vectors[i]])\n",
    "    embeddings_df = embeddings_df.append(df)\n",
    "    return embeddings_df"
   ]
  },
  {
   "cell_type": "code",
   "execution_count": null,
   "metadata": {},
   "outputs": [],
   "source": [
    "# load svm model \n",
    "svm_model = joblib.load('../input/sent_classifier_model/sent_classifier/svm_model_wt_use.pkl')"
   ]
  },
  {
   "cell_type": "code",
   "execution_count": null,
   "metadata": {},
   "outputs": [],
   "source": [
    "# load data and prepare \n",
    "sents = [sent for sent in sentiment_labels.sents]\n",
    "text_vectors = embed_text(sents)\n",
    "vectors_df = vectors_to_df(text_vectors)"
   ]
  },
  {
   "cell_type": "code",
   "execution_count": null,
   "metadata": {},
   "outputs": [],
   "source": [
    "# prdict categories \n",
    "preds = svm_model.predict(vectors_df)"
   ]
  },
  {
   "cell_type": "code",
   "execution_count": null,
   "metadata": {},
   "outputs": [],
   "source": [
    "# merge prediction results with original data frame\n",
    "results_df = pd.merge(sentiment_labels, pd.DataFrame(preds).reset_index(), how = 'left', left_index = True, right_index = True)"
   ]
  },
  {
   "cell_type": "code",
   "execution_count": null,
   "metadata": {},
   "outputs": [],
   "source": [
    "# write dataframe to flat file\n",
    "results_df.to_csv('../output/step2_output_sentiment_scores_categories.csv', index = False)"
   ]
  }
 ],
 "metadata": {
  "kernelspec": {
   "display_name": "Python 3",
   "language": "python",
   "name": "python3"
  },
  "language_info": {
   "codemirror_mode": {
    "name": "ipython",
    "version": 3
   },
   "file_extension": ".py",
   "mimetype": "text/x-python",
   "name": "python",
   "nbconvert_exporter": "python",
   "pygments_lexer": "ipython3",
   "version": "3.6.7"
  }
 },
 "nbformat": 4,
 "nbformat_minor": 4
}
