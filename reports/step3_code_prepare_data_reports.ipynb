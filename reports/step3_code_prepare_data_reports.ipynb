{
 "cells": [
  {
   "cell_type": "markdown",
   "metadata": {},
   "source": [
    "### Reports Automation\n",
    "- We take sentiment scores and predicted categories against each sentences and prepare this data to align with the template that we use in Gramex for automation\n",
    "- The below code cells should be executed in sequence (Step 1 to Step 10)"
   ]
  },
  {
   "cell_type": "markdown",
   "metadata": {},
   "source": [
    "**Prepare Data**"
   ]
  },
  {
   "cell_type": "code",
   "execution_count": 2,
   "metadata": {},
   "outputs": [],
   "source": [
    "# load libraries\n",
    "import pandas as pd "
   ]
  },
  {
   "cell_type": "code",
   "execution_count": null,
   "metadata": {},
   "outputs": [],
   "source": [
    "# load data\n",
    "df = pd.read_csv('../output/step2_output_sentiment_scores_categories.csv')"
   ]
  },
  {
   "cell_type": "markdown",
   "metadata": {},
   "source": [
    "##### Step 1"
   ]
  },
  {
   "cell_type": "code",
   "execution_count": null,
   "metadata": {},
   "outputs": [],
   "source": [
    "cols_to_read = ['d_pol', 'doc_id', 'company_name', 'sents', 's_pol', 'category']\n",
    "dt = pd.read_csv('step2_output_sentiment_scores_categories.csv', usecols = cols_to_read)\n",
    "dt['d_pol'] = dt.groupby('doc_id')['d_pol'].fillna(method = 'ffill')"
   ]
  },
  {
   "cell_type": "markdown",
   "metadata": {},
   "source": [
    "##### Step 2"
   ]
  },
  {
   "cell_type": "code",
   "execution_count": null,
   "metadata": {},
   "outputs": [],
   "source": [
    "dt['group_index'] = dt.groupby('company_name').cumcount() + 1 # make index sequential by group\n",
    "dt = dt.sort_values(['company_name', 'group_index'], ascending = True)"
   ]
  },
  {
   "cell_type": "markdown",
   "metadata": {},
   "source": [
    "##### Step 3"
   ]
  },
  {
   "cell_type": "code",
   "execution_count": null,
   "metadata": {},
   "outputs": [],
   "source": [
    "# group every 4th row\n",
    "# This is to limit 4 sentences to appear in each slides\n",
    "counter = 1\n",
    "for rid, row in dt.iterrows():\n",
    "    if dt.loc[rid, 'group_index'] % 4 == 0:\n",
    "        dt.loc[rid, 'group'] = counter\n",
    "        counter += 1\n",
    "    else:\n",
    "        next "
   ]
  },
  {
   "cell_type": "markdown",
   "metadata": {},
   "source": [
    "##### Step 4"
   ]
  },
  {
   "cell_type": "code",
   "execution_count": null,
   "metadata": {},
   "outputs": [],
   "source": [
    "# fillna within a group\n",
    "dt['group'] = dt.groupby('company_name')['group'].fillna(method = 'bfill')"
   ]
  },
  {
   "cell_type": "markdown",
   "metadata": {},
   "source": [
    "##### Step 5"
   ]
  },
  {
   "cell_type": "code",
   "execution_count": null,
   "metadata": {},
   "outputs": [],
   "source": [
    "# fill value for left out element in each group\n",
    "max_group_rank = pd.DataFrame(dt.groupby('company_name')['group'].max())\n",
    "max_group_rank = max_group_rank[max_group_rank['group'].notnull()]\n",
    "max_group_rank = max_group_rank['group'].astype(int)\n",
    "dt = pd.merge(dt, max_group_rank, how = 'left', left_on = 'company_name', right_index = True)"
   ]
  },
  {
   "cell_type": "markdown",
   "metadata": {},
   "source": [
    "##### Step 6"
   ]
  },
  {
   "cell_type": "code",
   "execution_count": null,
   "metadata": {},
   "outputs": [],
   "source": [
    "dt['group_y'] = dt['group_y'].apply(lambda x: str(x) + '.1')\n",
    "dt['group_x'] = dt['group_x'].astype('str')\n",
    "dt['group_x'] = np.where(dt['group_x'] == 'nan', dt['group_y'], dt['group_x'])\n",
    "dt = dt[dt['group_x'] != 'nan.1']"
   ]
  },
  {
   "cell_type": "code",
   "execution_count": null,
   "metadata": {},
   "outputs": [],
   "source": [
    "# Group predicted categories into a pre-defined categories \n",
    "g1 = ['New Projects/Market Expansion/Capex Plans', 'Business Risk/General']\n",
    "dt['categories'] = dt['category'].apply(lambda x: g1[0] if x in ['New Projects', 'Market Expansion', 'Capex Plans'] else (g1[1] if x in ['Business Risk', 'General'] else x))"
   ]
  },
  {
   "cell_type": "code",
   "execution_count": null,
   "metadata": {},
   "outputs": [],
   "source": [
    "dt['sno'] = dt.groupby(['group_x', 'categories']).cumcount() + 1"
   ]
  },
  {
   "cell_type": "markdown",
   "metadata": {},
   "source": [
    "##### Step 7"
   ]
  },
  {
   "cell_type": "code",
   "execution_count": null,
   "metadata": {},
   "outputs": [],
   "source": [
    "# Balance Categories\n",
    "groups_to_have = ['New Projects/Market Expansion/Capex Plans', 'Business Risk/General', 'Business Performance']\n",
    "groups_to_have.sort()\n",
    "grouped = dt.groupby('group_x')\n",
    "group_df = pd.DataFrame()\n",
    "for gid, group in grouped:\n",
    "    max_cat = group.categories.value_counts().count()\n",
    "    if max_cat < 3:\n",
    "        left_out = list(set(groups_to_have) - set(group['categories'].unique().tolist()))\n",
    "        for cat in left_out:\n",
    "            g = pd.DataFrame(group).reset_index()\n",
    "            g.index = g.index.astype(str)\n",
    "            g.loc[str(g.index.to_list()[-1]) + '_'  + str(left_out.index(cat))] = [0, g.iloc[-1, 1], '', g.iloc[-1, 3], '', '', '', '', gid, '', str(cat), '']\n",
    "            group_df = group_df.append(g)"
   ]
  },
  {
   "cell_type": "markdown",
   "metadata": {},
   "source": [
    "##### Step 8"
   ]
  },
  {
   "cell_type": "code",
   "execution_count": null,
   "metadata": {},
   "outputs": [],
   "source": [
    "# Balance number of rows in each category\n",
    "# to find out maximum number of rows that one category is having in our dataset\n",
    "max_rows = []\n",
    "grouped = group_df.groupby('group_x')\n",
    "for gid, group in grouped:\n",
    "    max_row = pd.DataFrame(group)['categories'].value_counts().values\n",
    "    max_row = np.amax(max_row).item()\n",
    "    max_rows.append(max_row)\n",
    "max_row_value = max(max_rows)\n",
    "print(max_row_value)\n",
    "\n",
    "complete_data_frame = pd.DataFrame()\n",
    "for gid, group in grouped:\n",
    "    g = pd.DataFrame(group)\n",
    "    cat_count_list = pd.DataFrame(group)['categories'].value_counts().sort_index(ascending = True).to_dict()\n",
    "    for key, value in cat_count_list.items():\n",
    "        if value != 8:\n",
    "            for i in range(value, max_row_value):\n",
    "                g.loc[str(g.index.to_list()[-1]) + '_'  + str(i)] = [0, g.iloc[-1, 1], '', g.iloc[-1, 3], '', '', '', '', gid, '', str(key), '']\n",
    "        else:\n",
    "            next\n",
    "    complete_data_frame = complete_data_frame.append(g)"
   ]
  },
  {
   "cell_type": "markdown",
   "metadata": {},
   "source": [
    "##### Step 9"
   ]
  },
  {
   "cell_type": "code",
   "execution_count": null,
   "metadata": {},
   "outputs": [],
   "source": [
    "# remove columns \n",
    "complete_data_frame.drop(['doc_id', 'group_index', 'group_y', 'index', 'sno'], axis = 1, inplace = True)\n",
    "complete_data_frame.sort_values(by = 'group_x', inplace = True)"
   ]
  },
  {
   "cell_type": "markdown",
   "metadata": {},
   "source": [
    "##### Step 10"
   ]
  },
  {
   "cell_type": "code",
   "execution_count": null,
   "metadata": {},
   "outputs": [],
   "source": [
    "# create row number in each group items\n",
    "# write final dataframe into an excel \n",
    "complete_data_frame['sno'] = complete_data_frame.groupby(['group_x', 'categories']).cumcount() + 1\n",
    "complete_data_frame.to_excel('automation/data_for_automation_updated.xlsx', index = False)"
   ]
  }
 ],
 "metadata": {
  "kernelspec": {
   "display_name": "Python 3",
   "language": "python",
   "name": "python3"
  },
  "language_info": {
   "codemirror_mode": {
    "name": "ipython",
    "version": 3
   },
   "file_extension": ".py",
   "mimetype": "text/x-python",
   "name": "python",
   "nbconvert_exporter": "python",
   "pygments_lexer": "ipython3",
   "version": "3.6.7"
  }
 },
 "nbformat": 4,
 "nbformat_minor": 4
}
